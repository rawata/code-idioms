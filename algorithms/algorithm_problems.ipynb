{
 "cells": [
  {
   "cell_type": "markdown",
   "metadata": {},
   "source": [
    "# Determine if string has all unique characters\n"
   ]
  },
  {
   "cell_type": "code",
   "execution_count": 2,
   "metadata": {
    "collapsed": true
   },
   "outputs": [],
   "source": [
    "def unitTest(f, input, output):\n",
    "    results = []\n",
    "    for i,o in zip(input, output):\n",
    "        if f(i) == o:\n",
    "            results.append(True)\n",
    "        else:\n",
    "            results.append(False)\n",
    "    \n",
    "    p = sum([1 if x else 0 for x in results])\n",
    "    f = sum([1 if not x else 0 for x in results])\n",
    "    print('Pass: ', p, ' Fail: ', f)\n",
    "        "
   ]
  },
  {
   "cell_type": "code",
   "execution_count": 25,
   "metadata": {
    "collapsed": false
   },
   "outputs": [
    {
     "name": "stdout",
     "output_type": "stream",
     "text": [
      "Pass:  10  Fail:  0\n"
     ]
    }
   ],
   "source": [
    "def allUnique(s):\n",
    "    #using sorting\n",
    "    try:   \n",
    "        ts = sorted(s)\n",
    "        l = len(ts)\n",
    "        for i in range(l):            \n",
    "            next = ts[i+1] if i < l-1 else None     \n",
    "            if ts[i] == next:\n",
    "                return False                 \n",
    "\n",
    "        return True\n",
    "    \n",
    "    except (TypeError):\n",
    "        return None\n",
    "\n",
    "unitTest(allUnique, \n",
    "         ['a', 'aa', 'ab', 'aaaaabb', 'abc', 'abb', '', None, 2, [1, 2, 'aa']], \n",
    "         [True, False, True, False, True, False, True, None, None, None])\n",
    "\n",
    "       "
   ]
  },
  {
   "cell_type": "markdown",
   "metadata": {},
   "source": [
    "# reverse a string"
   ]
  },
  {
   "cell_type": "code",
   "execution_count": 34,
   "metadata": {
    "collapsed": false
   },
   "outputs": [
    {
     "name": "stdout",
     "output_type": "stream",
     "text": [
      "Pass:  7  Fail:  0\n",
      "Pass:  5  Fail:  0\n"
     ]
    }
   ],
   "source": [
    "def reverseStr1(s):\n",
    "    try:\n",
    "        return ''.join([c for c in reversed(s)])\n",
    "    except TypeError:\n",
    "        return None\n",
    "\n",
    "#beautiful slice syntax [start:stop:step]\n",
    "def reverseStr2(s):\n",
    "    return s[::-1]\n",
    "    \n",
    "unitTest(reverseStr1,\n",
    "        ['', 'a', 'ab', 'aba', 'abbbb', 12, [] ],\n",
    "        ['', 'a', 'ba', 'aba', 'bbbba', None, ''])\n",
    "\n",
    "unitTest(reverseStr2,\n",
    "        ['', 'a', 'ab', 'aba', 'abbbb'],\n",
    "        ['', 'a', 'ba', 'aba', 'bbbba'])"
   ]
  },
  {
   "cell_type": "markdown",
   "metadata": {
    "collapsed": true
   },
   "source": [
    "# Binary Gap \n",
    "A binary gap within a positive integer N is any maximal sequence of consecutive zeros that is surrounded by ones at both ends in the binary representation of N. e.g 7 in binary is 111 hence its binary gap is 0, binaryGap(9) is 2, binaryGap(8) is 0 and so on"
   ]
  },
  {
   "cell_type": "code",
   "execution_count": 3,
   "metadata": {
    "collapsed": false
   },
   "outputs": [
    {
     "name": "stdout",
     "output_type": "stream",
     "text": [
      "Pass:  8  Fail:  0\n"
     ]
    }
   ],
   "source": [
    "''' This function counts the 0's till it finds a 1 '''\n",
    "def countSandwichZeros(i, s):\n",
    "    x = 0    \n",
    "    while(x+i < len(s) and s[x + i] == '0'  ):\n",
    "        x = x+1\n",
    "        \n",
    "    if x+i == len(s):\n",
    "        return None\n",
    "    else:\n",
    "        return x\n",
    "    \n",
    "'''Compute binaryGap'''    \n",
    "def binaryGap(N):\n",
    "    \n",
    "    #Convert number to binary string\n",
    "    s = format(N, 'b')\n",
    "    \n",
    "    maxgap = 0\n",
    "    i = 0\n",
    "    while(i < len(s)):\n",
    "        while(i < len(s) and s[i] == '1'):\n",
    "            i = i+1\n",
    "        \n",
    "        x = countSandwichZeros(i, s)\n",
    "        if x is None:\n",
    "            break\n",
    "        else:\n",
    "            maxgap = max(maxgap, x)\n",
    "        \n",
    "        i = i + x\n",
    "    \n",
    "    return maxgap\n",
    "\n",
    "unitTest(binaryGap,\n",
    "        [0, 1, 2, 3, 4, 5, 15, 1041],\n",
    "        [0, 0, 0, 0, 0, 1,  0,    5])\n",
    "\n"
   ]
  },
  {
   "cell_type": "code",
   "execution_count": null,
   "metadata": {
    "collapsed": true
   },
   "outputs": [],
   "source": []
  }
 ],
 "metadata": {
  "kernelspec": {
   "display_name": "Python 3",
   "language": "python",
   "name": "python3"
  },
  "language_info": {
   "codemirror_mode": {
    "name": "ipython",
    "version": 3
   },
   "file_extension": ".py",
   "mimetype": "text/x-python",
   "name": "python",
   "nbconvert_exporter": "python",
   "pygments_lexer": "ipython3",
   "version": "3.5.1"
  }
 },
 "nbformat": 4,
 "nbformat_minor": 0
}
