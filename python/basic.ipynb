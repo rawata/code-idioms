{
 "cells": [
  {
   "cell_type": "markdown",
   "metadata": {},
   "source": [
    "# Chained comparision operator"
   ]
  },
  {
   "cell_type": "code",
   "execution_count": 1,
   "metadata": {
    "collapsed": false
   },
   "outputs": [
    {
     "name": "stdout",
     "output_type": "stream",
     "text": [
      "2\n",
      "3\n",
      "4\n"
     ]
    }
   ],
   "source": [
    "for i in range(10):\n",
    "    if 2 <= i < 5 :\n",
    "        print(i)"
   ]
  },
  {
   "cell_type": "markdown",
   "metadata": {},
   "source": [
    "# Importable and executable script"
   ]
  },
  {
   "cell_type": "code",
   "execution_count": 3,
   "metadata": {
    "collapsed": false
   },
   "outputs": [
    {
     "name": "stdout",
     "output_type": "stream",
     "text": [
      "invoked from cmd line\n",
      "myFunc\n"
     ]
    }
   ],
   "source": [
    "def myFunc():\n",
    "    print('myFunc')\n",
    "\n",
    "if __name__ == '__main__':\n",
    "    print('invoked from cmd line')\n",
    "    myFunc()"
   ]
  },
  {
   "cell_type": "markdown",
   "metadata": {},
   "source": [
    "# True and False"
   ]
  },
  {
   "cell_type": "code",
   "execution_count": 5,
   "metadata": {
    "collapsed": false
   },
   "outputs": [
    {
     "name": "stdout",
     "output_type": "stream",
     "text": [
      "True\n",
      "True\n",
      "True\n",
      "True\n",
      "True\n"
     ]
    }
   ],
   "source": [
    "if True:\n",
    "    print('True')\n",
    "    \n",
    "if 1:\n",
    "    print('True')\n",
    "\n",
    "if 'hello':\n",
    "    print('True')\n",
    "\n",
    "if ['he', 'llo']:\n",
    "    print('True')\n",
    "\n",
    "if (1, 'he', 3.0):\n",
    "    print('True')"
   ]
  },
  {
   "cell_type": "code",
   "execution_count": 7,
   "metadata": {
    "collapsed": false
   },
   "outputs": [
    {
     "name": "stdout",
     "output_type": "stream",
     "text": [
      "False\n",
      "False\n",
      "False\n",
      "False\n",
      "False\n"
     ]
    }
   ],
   "source": [
    "if not False:\n",
    "    print('False')\n",
    "    \n",
    "if not 0:\n",
    "    print('False')\n",
    "\n",
    "if not '':\n",
    "    print('False')\n",
    "\n",
    "if not []:\n",
    "    print('False')\n",
    "\n",
    "if not ():\n",
    "    print('False')"
   ]
  },
  {
   "cell_type": "markdown",
   "metadata": {},
   "source": [
    "# Using in for membership check and iteration"
   ]
  },
  {
   "cell_type": "code",
   "execution_count": 14,
   "metadata": {
    "collapsed": false
   },
   "outputs": [
    {
     "name": "stdout",
     "output_type": "stream",
     "text": [
      "cat in bag\n",
      "cat in bag\n",
      "cat in bag\n",
      "dog\n",
      "cat\n"
     ]
    }
   ],
   "source": [
    "#Membership check (mind the complexity)\n",
    "#O(n)\n",
    "bag = ('dog', 'cat')\n",
    "if 'cat' in bag:\n",
    "    print('cat in bag')\n",
    "\n",
    "#O(1)\n",
    "bag = set(['dog', 'cat'])\n",
    "if 'cat' in bag:\n",
    "    print('cat in bag')\n",
    "\n",
    "#O(1)    \n",
    "bag = {'dog': 'd', 'cat' : 'c'}\n",
    "if 'cat' in bag:\n",
    "    print('cat in bag')\n",
    "\n",
    "#iteration\n",
    "bag = ['dog', 'cat' ]\n",
    "for animal in bag:\n",
    "    print(animal)\n"
   ]
  },
  {
   "cell_type": "markdown",
   "metadata": {},
   "source": [
    "# Looping "
   ]
  },
  {
   "cell_type": "code",
   "execution_count": 18,
   "metadata": {
    "collapsed": false
   },
   "outputs": [
    {
     "name": "stdout",
     "output_type": "stream",
     "text": [
      "cat\n",
      "dog\n",
      "cat   2   c\n",
      "dog   1   d\n",
      "cat\n",
      "dog\n",
      "horse\n"
     ]
    }
   ],
   "source": [
    "\n",
    "#Looping backward\n",
    "bag = ['dog', 'cat' ]\n",
    "for animal in reversed(bag):\n",
    "    print(animal)\n",
    "\n",
    "bag = {'cat': 2, 'dog': 2}\n",
    "# reversed only takes a sequence\n",
    "#for animal in reversed(bag):\n",
    "#    print(animal)\n",
    "\n",
    "#Looping over multiple collections\n",
    "animals = ['cat', 'dog']\n",
    "counts = [2, 1]\n",
    "ids = ['c', 'd']\n",
    "\n",
    "for animal, count, i in zip(animals, counts, ids):\n",
    "    print(animal, ' ', count, ' ', i)\n",
    "\n",
    "#looping after applying a transformation on the sequence\n",
    "#e.g sorting\n",
    "animals = ['dog', 'cat', 'horse']\n",
    "for animal in  sorted(animals):\n",
    "    print(animal)"
   ]
  },
  {
   "cell_type": "markdown",
   "metadata": {},
   "source": [
    "# Sorting"
   ]
  },
  {
   "cell_type": "code",
   "execution_count": 17,
   "metadata": {
    "collapsed": false
   },
   "outputs": [
    {
     "name": "stdout",
     "output_type": "stream",
     "text": [
      "['cat', 'dog', 'horse']\n",
      "['horse', 'dog', 'cat']\n",
      "['dog', 'cat', 'horse']\n",
      "[dog:4, cat:2, horse:1]\n",
      "[dog:4, cat:2, horse:1]\n"
     ]
    }
   ],
   "source": [
    "animals = ['dog', 'cat', 'horse']\n",
    "\n",
    "print(sorted(animals))\n",
    "print(sorted(animals, reverse = True))\n",
    "print(sorted(animals, key = len))\n",
    "\n",
    "#custom sorting\n",
    "class Animal(object):  \n",
    "    def __init__(self, name, count):\n",
    "        self.name = name\n",
    "        self.count = count\n",
    "    \n",
    "    def __repr__(self):\n",
    "        return self.name + ':' + str(self.count)\n",
    "\n",
    "animals = [ Animal('cat', 2), Animal('dog', 4), Animal('horse', 1) ]\n",
    "\n",
    "print(sorted(animals, key = lambda a: a.count, reverse = True))\n",
    "\n",
    "from operator import attrgetter\n",
    "print(sorted(animals, key = attrgetter('count'), reverse = True))\n"
   ]
  },
  {
   "cell_type": "markdown",
   "metadata": {},
   "source": [
    "# swap values without temp"
   ]
  },
  {
   "cell_type": "code",
   "execution_count": 19,
   "metadata": {
    "collapsed": false,
    "scrolled": true
   },
   "outputs": [
    {
     "name": "stdout",
     "output_type": "stream",
     "text": [
      "a = 2 and b = 1\n"
     ]
    }
   ],
   "source": [
    "a = 1\n",
    "b = 2\n",
    "a,b = b,a\n",
    "print('a =', a, 'and b =', b)"
   ]
  },
  {
   "cell_type": "markdown",
   "metadata": {},
   "source": [
    "# build string using a sequence O(n)"
   ]
  },
  {
   "cell_type": "code",
   "execution_count": 29,
   "metadata": {
    "collapsed": false
   },
   "outputs": [
    {
     "name": "stdout",
     "output_type": "stream",
     "text": [
      "cat dog\n",
      "cat, dog\n",
      "cat and dog\n"
     ]
    }
   ],
   "source": [
    "animals = ['cat', 'dog']\n",
    "print(' '.join(animals))\n",
    "#csv\n",
    "print(', '.join(animals))\n",
    "print(' and '.join(animals))\n"
   ]
  },
  {
   "cell_type": "markdown",
   "metadata": {},
   "source": [
    "# EAFP is preferrable to LBYP"
   ]
  },
  {
   "cell_type": "code",
   "execution_count": 30,
   "metadata": {
    "collapsed": true
   },
   "outputs": [],
   "source": [
    "d = {'k': 5}\n",
    "\n",
    "try :\n",
    "    val = int(d['k'])\n",
    "except (KeyError, ValueError, TypeError):\n",
    "    val = None\n",
    "\n",
    "#d = {'l' : 'aaaaa'}\n",
    "#KeyError\n",
    "#print(d['k'])\n",
    "#ValueError\n",
    "#print(int(d['l']))\n",
    "#TypeError\n",
    "# d = [2, 3, 'h']\n",
    "#print(d['k'])\n",
    "    \n",
    "    "
   ]
  },
  {
   "cell_type": "markdown",
   "metadata": {},
   "source": [
    "# enumerate"
   ]
  },
  {
   "cell_type": "code",
   "execution_count": 43,
   "metadata": {
    "collapsed": false
   },
   "outputs": [
    {
     "name": "stdout",
     "output_type": "stream",
     "text": [
      "1 a\n",
      "2 b\n",
      "3 c\n",
      "0 dog\n",
      "1 cat\n",
      "0 dog d\n",
      "1 cat c\n"
     ]
    }
   ],
   "source": [
    "alphabets = ['a', 'b', 'c']\n",
    "for i,x in enumerate(alphabets, 1):\n",
    "    print(i, x)\n",
    "\n",
    "animals = {'cat': 'c', 'dog':'d'}\n",
    "for i, key in enumerate(animals):\n",
    "    print(i, key)\n",
    "\n",
    "for i, (key, val) in enumerate(animals.items()):\n",
    "    print(i, key, val)\n"
   ]
  },
  {
   "cell_type": "markdown",
   "metadata": {},
   "source": [
    "# list, set, dictionary comprehensions and their superiority over map/filter functions"
   ]
  },
  {
   "cell_type": "code",
   "execution_count": 12,
   "metadata": {
    "collapsed": false
   },
   "outputs": [
    {
     "name": "stdout",
     "output_type": "stream",
     "text": [
      "[6, 7, 8, 9, 10, 11, 12]\n",
      "(6, 7, 8, 9, 10, 11, 12)\n",
      "[2, 6, 12]\n",
      "4\n",
      "<generator object <genexpr> at 0x7f10ca2586d0>\n",
      "[6, 7, 8, 9, 10, 11, 12]\n",
      "{3, 4}\n",
      "{'b': 2, 'c': 3, 'a': 1}\n"
     ]
    }
   ],
   "source": [
    "#[expression sequence filter] similar to map & filter\n",
    "#list\n",
    "print([x+3 for x in range(10) if x > 2])\n",
    "\n",
    "#tuple\n",
    "print(tuple(x+3 for x in range(10) if x > 2))\n",
    "\n",
    "#Given a list of N numbers, use a single list comprehension\n",
    "#to produce a new list that only contains those values that\n",
    "#are: (a) even numbers, and (b) from elements in the \n",
    "#original list that had even indices\n",
    "\n",
    "def evensAndFromEvenIndices(l):\n",
    "    return [x for i,x in enumerate(l) if x%2 == 0 and i%2 == 0]\n",
    "\n",
    "print(evensAndFromEvenIndices([2, 4, 6, 8, 9, 10, 12, 14]))\n",
    "\n",
    "#count number of 2's in the sequence\n",
    "#A slightly different form of list comprehension\n",
    "s = [2, 2, 3, 3, 2, 2]\n",
    "print(sum([1 if x == 2 else 0 for x in s]))\n",
    "\n",
    "\n",
    "#generator expression\n",
    "gen = (x+3 for x in range(10) if x > 2)\n",
    "print(gen)\n",
    "print([x for x in gen])\n",
    "\n",
    "#set\n",
    "print({len(x) for x in ['a', 'aa', 'aaa', 'aaa', 'aaaa', 'aaaa'] if len(x) > 2})\n",
    "\n",
    "#dict\n",
    "a = ['a', 'b', 'c']\n",
    "b = [1, 2, 3]\n",
    "print({k:v for k,v in zip(a,b)})\n"
   ]
  },
  {
   "cell_type": "markdown",
   "metadata": {},
   "source": [
    "# default dict"
   ]
  },
  {
   "cell_type": "code",
   "execution_count": 8,
   "metadata": {
    "collapsed": false,
    "scrolled": true
   },
   "outputs": [
    {
     "name": "stdout",
     "output_type": "stream",
     "text": [
      "0\n",
      "2\n",
      "['b']\n",
      "defaultdict(<class 'int'>, {'cat': 4, 'dog': 2})\n"
     ]
    }
   ],
   "source": [
    "d = {}\n",
    "#below will throw KeyError\n",
    "#print(d['a'])\n",
    "\n",
    "from collections import defaultdict\n",
    "d = defaultdict(int)\n",
    "print(d['a'])\n",
    "\n",
    "d = defaultdict(lambda: 2)\n",
    "print(d['a'])\n",
    "\n",
    "d = defaultdict(list)\n",
    "d['a'].append('b')\n",
    "print(d['a'])\n",
    "\n",
    "#Word count using default dict\n",
    "animals = ['cat', 'cat', 'cat', 'dog', 'dog', 'cat']\n",
    "d = defaultdict(int)\n",
    "\n",
    "for animal in animals:\n",
    "    d[animal] += 1\n",
    "print(d)\n",
    "\n"
   ]
  },
  {
   "cell_type": "markdown",
   "metadata": {},
   "source": [
    "# generators: generator function and generator expression"
   ]
  },
  {
   "cell_type": "code",
   "execution_count": null,
   "metadata": {
    "collapsed": true
   },
   "outputs": [],
   "source": []
  }
 ],
 "metadata": {
  "kernelspec": {
   "display_name": "Python 3",
   "language": "python",
   "name": "python3"
  },
  "language_info": {
   "codemirror_mode": {
    "name": "ipython",
    "version": 3
   },
   "file_extension": ".py",
   "mimetype": "text/x-python",
   "name": "python",
   "nbconvert_exporter": "python",
   "pygments_lexer": "ipython3",
   "version": "3.5.1"
  }
 },
 "nbformat": 4,
 "nbformat_minor": 0
}
